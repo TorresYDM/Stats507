{
 "cells": [
  {
   "cell_type": "markdown",
   "id": "6febcdd4",
   "metadata": {},
   "source": [
    "# [Statistics 507, Fall 2021](https://jbhender.github.io/Stats507/F21/ps/index.html)\n",
    "**Problem Set 1**\n",
    "\n",
    "**Student Name: Dongming Yang**\n",
    "\n",
    "**StudentID:# 46323425**"
   ]
  },
  {
   "cell_type": "markdown",
   "id": "7c157343",
   "metadata": {},
   "source": [
    "# Question 0 - Markdown warmup [10 points]\n",
    "___\n",
    "This is question for [Problem set 1](https://jbhender.github.io/Stats507/F21/ps/ps1.html) of [Stats 507](https://jbhender.github.io/Stats507/F21/).\n",
    "\n",
    "> Question 0 is about Markdown\n",
    "\n",
    "The next question is about the **Fibonnaci sequence** $ F_n=F_{n-1}+F_{n-2} $. In part **a** we will define a Python functi\n",
    "on <code>fib_rec()</code>.\n",
    "\n",
    "Below is a ...\n",
    "### Level 3 Header\n",
    "Next, we can make a bulleted list:\n",
    "- Item 1\n",
    "  - detail 1\n",
    "  - detail 2\n",
    "- Item 2\n",
    "\n",
    "Finally, we can make an enumerated list\n",
    "\n",
    "    a.Item 1\n",
    "    b.Item 2\n",
    "    c.Item 3"
   ]
  },
  {
   "cell_type": "markdown",
   "id": "5a0b1292",
   "metadata": {},
   "source": [
    "# Question1 - Fibonnaci Sequence [30]\n",
    "1. Write a recursive function <code> fib_rec()</code> that takes a single input n and returns the value of $F_n$"
   ]
  },
  {
   "cell_type": "code",
   "execution_count": 2,
   "id": "2ad10c58",
   "metadata": {},
   "outputs": [
    {
     "name": "stdout",
     "output_type": "stream",
     "text": [
      "n= 7   resutl= 13\n",
      "n= 11   resutl= 89\n",
      "n= 13   resutl= 233\n"
     ]
    }
   ],
   "source": [
    "# Import package\n",
    "\n",
    "import math\n",
    "import time\n",
    "import pandas as pd\n",
    "import numpy as np\n",
    "from scipy import stats\n",
    "\n",
    "# Define the Function for rec \n",
    "\n",
    "def fib_rec(n):\n",
    "    if n==1 or n==2:\n",
    "        return 1\n",
    "    else:\n",
    "        return fib_rec(n-1)+fib_rec(n-2)\n",
    "    \n",
    "# Test the result of value of 7,11,13  \n",
    "\n",
    "num_list=[7,11,13]\n",
    "for n in num_list:\n",
    "    print ('n=',n,' ','resutl=',fib_rec(n))"
   ]
  },
  {
   "cell_type": "code",
   "execution_count": 2,
   "id": "b29311ea",
   "metadata": {},
   "outputs": [
    {
     "name": "stdout",
     "output_type": "stream",
     "text": [
      "['0.273438', '0.695312', '1.742188', '4.593750', '11.500000']\n"
     ]
    }
   ],
   "source": [
    "# Calculate the time for fib_rec\n",
    "# initial_run_number is the value that will compute first \n",
    "initial_run_number=30\n",
    "\n",
    "# add_number will add to initial_value \n",
    "add_number=2\n",
    "\n",
    "# The times for function perform for one number and get median\n",
    "test_times=10\n",
    "\n",
    "# The times for performance for different number \n",
    "total_run_times=5\n",
    "\n",
    "fib_rec_list=[]\n",
    "run_number=initial_run_number\n",
    "for x in range (total_run_times):\n",
    "    list=[]\n",
    "    for y in range (test_times):\n",
    "        start=time.process_time()\n",
    "        fib_rec(run_number)\n",
    "        end=time.process_time()\n",
    "        list.append(end-start)\n",
    "    run_number=run_number+add_number\n",
    "    fib_rec_list.append('%.6f'% np.median(list))\n",
    "    \n",
    "# Print the result of time \n",
    "\n",
    "print (fib_rec_list)"
   ]
  },
  {
   "cell_type": "markdown",
   "id": "494ed5d0",
   "metadata": {},
   "source": [
    "2. Write a function <code>fib_for()</code> with the same signature that computes $F_n$ by summation using a for loop."
   ]
  },
  {
   "cell_type": "code",
   "execution_count": 3,
   "id": "7bf8a985",
   "metadata": {},
   "outputs": [
    {
     "name": "stdout",
     "output_type": "stream",
     "text": [
      "n= 7   resutl= 13\n",
      "n= 11   resutl= 89\n",
      "n= 13   resutl= 233\n"
     ]
    }
   ],
   "source": [
    "# Define the function of fib_for \n",
    "\n",
    "def fib_for(n):\n",
    "    a,b=0,1\n",
    "    for i in range (n):\n",
    "        a,b=b,a+b\n",
    "    return a\n",
    "\n",
    "# Test the result of value of 7,11,13  \n",
    "\n",
    "num_list=[7,11,13]\n",
    "for n in num_list:\n",
    "    print ('n=',n,' ','resutl=',fib_for(n))"
   ]
  },
  {
   "cell_type": "code",
   "execution_count": 4,
   "id": "a964c08c",
   "metadata": {},
   "outputs": [
    {
     "name": "stdout",
     "output_type": "stream",
     "text": [
      "['0.000000', '0.000000', '0.000000', '0.000000', '0.000000']\n"
     ]
    }
   ],
   "source": [
    "# Calculate the time for fib_for\n",
    "\n",
    "run_number=initial_run_number\n",
    "fib_for_list=[]\n",
    "for x in range (total_run_times):\n",
    "    list=[]\n",
    "    for y in range (test_times):\n",
    "        start=time.process_time()\n",
    "        fib_for(run_number)\n",
    "        end=time.process_time()\n",
    "        list.append(end-start)\n",
    "    run_number=initial_run_number+add_number\n",
    "    fib_for_list.append('%.6f'% np.median(list))\n",
    "    \n",
    "# Print the result     \n",
    "\n",
    "print (fib_for_list)"
   ]
  },
  {
   "cell_type": "markdown",
   "id": "a766607c",
   "metadata": {},
   "source": [
    "3. Write a function <code>fib_whl()</code> with the same signature that computes $F_n$ by summation using a while loop."
   ]
  },
  {
   "cell_type": "code",
   "execution_count": 5,
   "id": "55de4c7c",
   "metadata": {},
   "outputs": [
    {
     "name": "stdout",
     "output_type": "stream",
     "text": [
      "n= 7   resutl= 13\n",
      "n= 11   resutl= 89\n",
      "n= 13   resutl= 233\n"
     ]
    }
   ],
   "source": [
    "# Define the fucntion of fib_while\n",
    "\n",
    "def fib_while(n):\n",
    "    a,b=0,1\n",
    "    index=1\n",
    "    while index<n:\n",
    "        a,b=b,a+b\n",
    "        index=index+1\n",
    "    return b\n",
    "\n",
    "# Print the result of 7,11,13\n",
    "\n",
    "num_list=[7,11,13]\n",
    "for n in num_list:\n",
    "    print ('n=',n,' ','resutl=',fib_while(n))"
   ]
  },
  {
   "cell_type": "code",
   "execution_count": 6,
   "id": "bd8584ff",
   "metadata": {},
   "outputs": [
    {
     "name": "stdout",
     "output_type": "stream",
     "text": [
      "['0.000000', '0.000000', '0.000000', '0.000000', '0.000000']\n"
     ]
    }
   ],
   "source": [
    "# Calculate the time of fib_while \n",
    "\n",
    "run_number=initial_run_number\n",
    "fib_while_list=[]\n",
    "for x in range (total_run_times):\n",
    "    list=[]\n",
    "    for y in range (test_times):\n",
    "        start=time.process_time()\n",
    "        fib_while(run_number)\n",
    "        end=time.process_time()\n",
    "        list.append(end-start)\n",
    "    run_number=run_number+add_number\n",
    "    fib_while_list.append('%.6f'% np.median(list))\n",
    "    \n",
    "# Print the result     \n",
    "\n",
    "print (fib_while_list)"
   ]
  },
  {
   "cell_type": "markdown",
   "id": "d6e4c8bc",
   "metadata": {},
   "source": [
    "4. Write a function <code>fib_rnd()</code> with the same signature that computes Fn using the rounding method described on the Wikipedia page linked above."
   ]
  },
  {
   "cell_type": "code",
   "execution_count": 7,
   "id": "01430047",
   "metadata": {},
   "outputs": [
    {
     "name": "stdout",
     "output_type": "stream",
     "text": [
      "n= 7   resutl= 13\n",
      "n= 11   resutl= 89\n",
      "n= 13   resutl= 233\n"
     ]
    }
   ],
   "source": [
    "# Define the function of fib_rnd\n",
    "\n",
    "def fib_rnd(n):\n",
    "    return round(((0.5*(1+5**0.5))**n)*(1/(5**0.5)))\n",
    "\n",
    "# Print the result of 7,11,13\n",
    "\n",
    "num_list=[7,11,13]\n",
    "for n in num_list:\n",
    "    print ('n=',n,' ','resutl=',fib_rnd(n))"
   ]
  },
  {
   "cell_type": "code",
   "execution_count": 8,
   "id": "ae8d49a4",
   "metadata": {},
   "outputs": [
    {
     "name": "stdout",
     "output_type": "stream",
     "text": [
      "['0.000000', '0.000000', '0.000000', '0.000000', '0.000000']\n"
     ]
    }
   ],
   "source": [
    "# Calculate the time of fib_rnd\n",
    "\n",
    "run_number=initial_run_number\n",
    "fib_rnd_list=[]\n",
    "for x in range (total_run_times):\n",
    "    list=[]\n",
    "    for y in range (test_times):\n",
    "        start=time.process_time()\n",
    "        fib_rnd(run_number)\n",
    "        end=time.process_time()\n",
    "        list.append(end-start)\n",
    "    run_number=run_number+add_number\n",
    "    fib_rnd_list.append('%.6f'% np.median(list))\n",
    "    \n",
    "print (fib_rnd_list)"
   ]
  },
  {
   "cell_type": "markdown",
   "id": "1d343774",
   "metadata": {},
   "source": [
    "5. Write a function <code>fib_flr()</code> with the same signature that computes Fn using the truncation method described on the Wikipedia page linked above."
   ]
  },
  {
   "cell_type": "code",
   "execution_count": 9,
   "id": "c7277fd4",
   "metadata": {},
   "outputs": [
    {
     "name": "stdout",
     "output_type": "stream",
     "text": [
      "n= 7   resutl= 13\n",
      "n= 11   resutl= 89\n",
      "n= 13   resutl= 233\n"
     ]
    }
   ],
   "source": [
    "# Define the function of fib_floor\n",
    "\n",
    "def fib_flr(n):\n",
    "    return math.ceil(((0.5*(1+5**0.5))**n)*(1/(5**0.5)))\n",
    "\n",
    "# Print the result of 7,11,13\n",
    "\n",
    "num_list=[7,11,13]\n",
    "for n in num_list:\n",
    "    print ('n=',n,' ','resutl=',fib_flr(n))"
   ]
  },
  {
   "cell_type": "code",
   "execution_count": 10,
   "id": "993d3a75",
   "metadata": {},
   "outputs": [
    {
     "name": "stdout",
     "output_type": "stream",
     "text": [
      "['0.000000', '0.000000', '0.000000', '0.000000', '0.000000']\n"
     ]
    }
   ],
   "source": [
    "# Calculate the time of fib_flr\n",
    "\n",
    "run_number=initial_run_number\n",
    "fib_flr_list=[]\n",
    "for x in range (total_run_times):\n",
    "    list=[]\n",
    "    for y in range (test_times):\n",
    "        start=time.process_time()\n",
    "        fib_flr(run_number)\n",
    "        end=time.process_time()\n",
    "        list.append(end-start)\n",
    "    run_number=run_number+add_number\n",
    "    fib_flr_list.append('%.6f'% np.median(list))\n",
    "\n",
    "print (fib_flr_list)"
   ]
  },
  {
   "cell_type": "markdown",
   "id": "a4f6075a",
   "metadata": {},
   "source": [
    "6. For a sequence of increasingly large values of n compare the median computation time of each of the functions above. Present your results in a nicely formatted table. (Point estimates are sufficient)."
   ]
  },
  {
   "cell_type": "code",
   "execution_count": 11,
   "id": "55891a6a",
   "metadata": {},
   "outputs": [
    {
     "name": "stdout",
     "output_type": "stream",
     "text": [
      "            rec       for     while       rnd       flr\n",
      "n=30   0.273438  0.000000  0.000000  0.000000  0.000000\n",
      "n=32   0.695312  0.000000  0.000000  0.000000  0.000000\n",
      "n=34   1.742188  0.000000  0.000000  0.000000  0.000000\n",
      "n=36   4.593750  0.000000  0.000000  0.000000  0.000000\n",
      "n=38  11.500000  0.000000  0.000000  0.000000  0.000000\n"
     ]
    }
   ],
   "source": [
    "# Combine all the time into map and transfer into matrix\n",
    "\n",
    "map={'rec':fib_rec_list,'for':fib_for_list,'while':fib_while_list,\"rnd\":fib_rnd_list,\"flr\":fib_flr_list}\n",
    "dp=pd.DataFrame(map)\n",
    "list_run_number=[]\n",
    "for i in range(total_run_times):\n",
    "    list_run_number.append((initial_run_number+i*add_number))\n",
    "dp.index=[('n='+str(x)) for x in list_run_number]\n",
    "print(dp)"
   ]
  },
  {
   "cell_type": "markdown",
   "id": "8122f0c0",
   "metadata": {},
   "source": [
    "# Question 2 - Pascal’s Triangle [20]\n",
    "1. Write a function to compute a specified row of Pascal’s triangle."
   ]
  },
  {
   "cell_type": "code",
   "execution_count": 12,
   "id": "de042cd1",
   "metadata": {},
   "outputs": [
    {
     "name": "stdout",
     "output_type": "stream",
     "text": [
      "Enter the specified row number: 10\n",
      "[1, 9, 36, 84, 126, 126, 84, 36, 9, 1]\n"
     ]
    }
   ],
   "source": [
    "n=int(input(\"Enter the specified row number: \"))\n",
    "tri=[1,[1,1]]\n",
    "for i in range(2,n):\n",
    "    cur=[1]\n",
    "    pre=tri[i-1]\n",
    "    for x in range (i-1):\n",
    "        cur.append(pre[x]+pre[x+1])\n",
    "    cur.append(1)\n",
    "    tri.append(cur)\n",
    "print (cur)"
   ]
  },
  {
   "cell_type": "markdown",
   "id": "f5acab73",
   "metadata": {},
   "source": [
    "2. Write a function for printing the first n rows of Pascal’s triangle using the conventional spacing with the numbers in each row staggered relative to adjacent rows. Use your function to display a minimum of 10 rows in your notebook."
   ]
  },
  {
   "cell_type": "code",
   "execution_count": 13,
   "id": "6e955434",
   "metadata": {},
   "outputs": [
    {
     "name": "stdout",
     "output_type": "stream",
     "text": [
      "Enter the specified row number: 10\n",
      "                             1                              \n",
      "\n",
      "                            1 1                             \n",
      "\n",
      "                           1 2 1                            \n",
      "\n",
      "                          1 3 3 1                           \n",
      "\n",
      "                         1 4 6 4 1                          \n",
      "\n",
      "                       1 5 10 10 5 1                        \n",
      "\n",
      "                     1 6 15 20 15 6 1                       \n",
      "\n",
      "                    1 7 21 35 35 21 7 1                     \n",
      "\n",
      "                  1 8 28 56 70 56 28 8 1                    \n",
      "\n",
      "                1 9 36 84 126 126 84 36 9 1                 \n",
      "\n"
     ]
    }
   ],
   "source": [
    "n=int(input(\"Enter the specified row number: \"))\n",
    "tri=[[1],[1,1]]\n",
    "\n",
    "for i in range(2,n):\n",
    "    cur=[1]\n",
    "    pre=tri[i-1]\n",
    "    for x in range (i-1):\n",
    "        cur.append(pre[x]+pre[x+1])\n",
    "    cur.append(1)\n",
    "    tri.append(cur)\n",
    "for x in range (n):\n",
    "    line=''\n",
    "    for y in range (x+1): \n",
    "        line=line+str(tri[x][y])+' '\n",
    "    print(line.center(n*6))\n",
    "    print('')"
   ]
  },
  {
   "cell_type": "markdown",
   "id": "9c428c22",
   "metadata": {},
   "source": [
    "# Question 3 - Statistics 101 [40]\n",
    "1. The standard point and interval estimate for the populaiton mean based on Normal theory takes the form $x \\pm z×se(x)$ where $ \\overline{x} $ is the mean, $ se(x) $ is the standard error, and $z$ is a Gaussian multiplier that depends on the desired confidence level. Write a function to return a point and interval estimate for the mean based on these statistics."
   ]
  },
  {
   "cell_type": "code",
   "execution_count": 3,
   "id": "de44bfc0",
   "metadata": {},
   "outputs": [
    {
     "name": "stdout",
     "output_type": "stream",
     "text": [
      "Enter the confidential Level(In float ex:0.95):0.95\n"
     ]
    }
   ],
   "source": [
    "\n",
    "# Input confidential level \n",
    "level=float(input('Enter the confidential Level(In float ex:0.95):'))\n",
    "\n",
    "# Input form\n",
    "form_string='{0:.2f} [{1}% CI:({2:.3f},{3:.3f})]'\n",
    "\n",
    "# Define the function to return est,lwr,upr,level\n",
    "def None_dictionary(): \n",
    "    none_dic={'est','lwr','upr','level'}\n",
    "    return none_dix\n",
    "\n",
    "\n",
    "#Calculate the confidence interval\n",
    "def method1(data,level,form_string): \n",
    "    \n",
    "    try: \n",
    "        data=np.array(data)\n",
    "    except: \n",
    "        print ('The data is not availble')\n",
    "        \n",
    "    est=data.mean()\n",
    "    std=data.std(ddof=0)\n",
    "    conf_interval = stats.norm.interval(level, loc=est, scale=std)\n",
    "    lower=conf_interval[0]\n",
    "    upper=conf_interval[1]\n",
    "    try:\n",
    "        string_output=form_string.format(est,level*100,lower,upper)\n",
    "        return (string_output)\n",
    "    except: \n",
    "        return None_dictionary()"
   ]
  },
  {
   "cell_type": "markdown",
   "id": "a3a3f12d",
   "metadata": {},
   "source": [
    "2. There are a number of methods for computing a confidence interval for a population proportion arising from a Binomial experiment consisting of $n$ independent and identically distributed Bernoulli trials. Let $x$ be the number of successes in thes trials. In this question you will write a function to return point and interval estimates based on several of these methods. Your function should have a parameter method that controls the method used. Include functionality for each of the following methods."
   ]
  },
  {
   "cell_type": "code",
   "execution_count": 4,
   "id": "9e230b22",
   "metadata": {},
   "outputs": [],
   "source": [
    "\n",
    "def method2(data,level,form_string):\n",
    "    \n",
    "    try: \n",
    "        data=np.array(data)\n",
    "    except: \n",
    "        print ('The data is not availble')\n",
    "        \n",
    "    est=data.mean()\n",
    "    z=stats.norm.ppf((1-level)/2+level,loc=0,scale=1)\n",
    "    e=z*(est*(1-est)/n)**0.5\n",
    "    upper=est+e\n",
    "    lower=est-e\n",
    "    string_output=form_string.format(est,level*100,lower,upper)\n",
    "    \n",
    "    try:\n",
    "        string_output=form_string.format(est,level*100,lower,upper)\n",
    "        return (string_output)\n",
    "    except: \n",
    "        return None_dictionary()\n"
   ]
  },
  {
   "cell_type": "code",
   "execution_count": 5,
   "id": "d0a5fe56",
   "metadata": {},
   "outputs": [],
   "source": [
    "def method3(data,level,form_string):\n",
    "    \n",
    "    try: \n",
    "        data=np.array(data)\n",
    "    except: \n",
    "        print ('The data is not availble')\n",
    "        \n",
    "    est=data.mean()\n",
    "    upper=stats.beta.ppf(1-(1-level)/2,x+1,n-x)\n",
    "    lower=stats.beta.ppf((1-level)/2,x,n-x+1)\n",
    "    string_output=form_string.format(est,level*100,lower,upper)\n",
    "    \n",
    "    try:\n",
    "        string_output=form_string.format(est,level*100,lower,upper)\n",
    "        return (string_output)\n",
    "    except: \n",
    "        return None_dictionary()\n"
   ]
  },
  {
   "cell_type": "code",
   "execution_count": 6,
   "id": "126f25e2",
   "metadata": {},
   "outputs": [],
   "source": [
    "def method4(data,level,form_string):\n",
    "    \n",
    "    try: \n",
    "        data=np.array(data)\n",
    "    except: \n",
    "        print ('The data is not availble')\n",
    "        \n",
    "    est=data.mean()\n",
    "    lower=max(0,stats.beta.ppf((1-level)/2,x+0.5,n-x+0.5))\n",
    "    upper=min(stats.beta.ppf(1-(1-level)/2,x+0.5,n-x+0.5),1)\n",
    "    string_output=form_string.format(est,level*100,lower,upper)\n",
    "    \n",
    "    try:\n",
    "        string_output=form_string.format(est,level*100,lower,upper)\n",
    "        return (string_output)\n",
    "    except: \n",
    "        return None_dictionary()\n"
   ]
  },
  {
   "cell_type": "code",
   "execution_count": 7,
   "id": "6d344a65",
   "metadata": {},
   "outputs": [],
   "source": [
    "def method5(data,level,form_string):\n",
    "    \n",
    "    try: \n",
    "        data=np.array(data)\n",
    "    except: \n",
    "        print ('The data is not availble')\n",
    "        \n",
    "    est=data.mean()\n",
    "    z=stats.norm.ppf((1-level)/2+level,loc=0,scale=1)\n",
    "    n_hat=n+z**2\n",
    "    p_hat=(x+z**2/2)/n_hat\n",
    "    e_hat=z*((1-p_hat)*p_hat/n_hat)**0.5\n",
    "    upper=est+e_hat\n",
    "    lower=est-e_hat\n",
    "    string_output=form_string.format(est,level*100,lower,upper)\n",
    "    \n",
    "    try:\n",
    "        string_output=form_string.format(est,level*100,lower,upper)\n",
    "        return (string_output)\n",
    "    except: \n",
    "        return None_dictionary()\n"
   ]
  },
  {
   "cell_type": "markdown",
   "id": "271c9680",
   "metadata": {},
   "source": [
    "Create a 1d Numpy array with 42 ones and 48 zeros. Construct a nicely formatted table comparing 90, 95, and 99% confidence intervals using each of the methods above (including part a) on this data. Choose the number of decimals to display carefully to emphasize differences. For each confidence level, which method produces the interval with the smallest width?"
   ]
  },
  {
   "cell_type": "code",
   "execution_count": 8,
   "id": "417435be",
   "metadata": {},
   "outputs": [
    {
     "data": {
      "text/html": [
       "<div>\n",
       "<style scoped>\n",
       "    .dataframe tbody tr th:only-of-type {\n",
       "        vertical-align: middle;\n",
       "    }\n",
       "\n",
       "    .dataframe tbody tr th {\n",
       "        vertical-align: top;\n",
       "    }\n",
       "\n",
       "    .dataframe thead th {\n",
       "        text-align: right;\n",
       "    }\n",
       "</style>\n",
       "<table border=\"1\" class=\"dataframe\">\n",
       "  <thead>\n",
       "    <tr style=\"text-align: right;\">\n",
       "      <th></th>\n",
       "      <th>Level=90%</th>\n",
       "      <th>Level=95%</th>\n",
       "      <th>Level=99%</th>\n",
       "    </tr>\n",
       "  </thead>\n",
       "  <tbody>\n",
       "    <tr>\n",
       "      <th>Normal Theory</th>\n",
       "      <td>0.47 [90.0% CI:(-0.354,1.287)]</td>\n",
       "      <td>0.47 [95.0% CI:(-0.511,1.444)]</td>\n",
       "      <td>0.47 [99.0% CI:(-0.818,1.752)]</td>\n",
       "    </tr>\n",
       "    <tr>\n",
       "      <th>Normal Approxinmation</th>\n",
       "      <td>0.47 [90.0% CI:(0.380,0.553)]</td>\n",
       "      <td>0.47 [95.0% CI:(0.364,0.570)]</td>\n",
       "      <td>0.47 [99.0% CI:(0.331,0.602)]</td>\n",
       "    </tr>\n",
       "    <tr>\n",
       "      <th>Clopper-Pearon Interval</th>\n",
       "      <td>0.47 [90.0% CI:(0.376,0.559)]</td>\n",
       "      <td>0.47 [95.0% CI:(0.361,0.575)]</td>\n",
       "      <td>0.47 [99.0% CI:(0.331,0.606)]</td>\n",
       "    </tr>\n",
       "    <tr>\n",
       "      <th>Jeffreys Interval</th>\n",
       "      <td>0.47 [90.0% CI:(0.382,0.553)]</td>\n",
       "      <td>0.47 [95.0% CI:(0.366,0.569)]</td>\n",
       "      <td>0.47 [99.0% CI:(0.336,0.601)]</td>\n",
       "    </tr>\n",
       "    <tr>\n",
       "      <th>Agresti-Coull Interval</th>\n",
       "      <td>0.47 [90.0% CI:(0.381,0.552)]</td>\n",
       "      <td>0.47 [95.0% CI:(0.366,0.568)]</td>\n",
       "      <td>0.47 [99.0% CI:(0.336,0.597)]</td>\n",
       "    </tr>\n",
       "  </tbody>\n",
       "</table>\n",
       "</div>"
      ],
      "text/plain": [
       "                                              Level=90%  \\\n",
       "Normal Theory            0.47 [90.0% CI:(-0.354,1.287)]   \n",
       "Normal Approxinmation     0.47 [90.0% CI:(0.380,0.553)]   \n",
       "Clopper-Pearon Interval   0.47 [90.0% CI:(0.376,0.559)]   \n",
       "Jeffreys Interval         0.47 [90.0% CI:(0.382,0.553)]   \n",
       "Agresti-Coull Interval    0.47 [90.0% CI:(0.381,0.552)]   \n",
       "\n",
       "                                              Level=95%  \\\n",
       "Normal Theory            0.47 [95.0% CI:(-0.511,1.444)]   \n",
       "Normal Approxinmation     0.47 [95.0% CI:(0.364,0.570)]   \n",
       "Clopper-Pearon Interval   0.47 [95.0% CI:(0.361,0.575)]   \n",
       "Jeffreys Interval         0.47 [95.0% CI:(0.366,0.569)]   \n",
       "Agresti-Coull Interval    0.47 [95.0% CI:(0.366,0.568)]   \n",
       "\n",
       "                                              Level=99%  \n",
       "Normal Theory            0.47 [99.0% CI:(-0.818,1.752)]  \n",
       "Normal Approxinmation     0.47 [99.0% CI:(0.331,0.602)]  \n",
       "Clopper-Pearon Interval   0.47 [99.0% CI:(0.331,0.606)]  \n",
       "Jeffreys Interval         0.47 [99.0% CI:(0.336,0.601)]  \n",
       "Agresti-Coull Interval    0.47 [99.0% CI:(0.336,0.597)]  "
      ]
     },
     "execution_count": 8,
     "metadata": {},
     "output_type": "execute_result"
    }
   ],
   "source": [
    "# Create the data list \n",
    "list=[]\n",
    "n=90\n",
    "x=42\n",
    "for index in range (x):\n",
    "    list.append(1)\n",
    "for index in range (n-x):\n",
    "    list.append(0)\n",
    "    \n",
    "# Transfer list into np.array into a data \n",
    "data=np.array(list)\n",
    "\n",
    "level_list=[0.90,0.95,0.99]\n",
    "list_map=[]\n",
    "for level in level_list: \n",
    "    list_temp=[]\n",
    "    list_temp.append(method1(data,level,form_string))\n",
    "    list_temp.append(method2(data,level,form_string))\n",
    "    list_temp.append(method3(data,level,form_string))\n",
    "    list_temp.append(method4(data,level,form_string))\n",
    "    list_temp.append(method5(data,level,form_string))\n",
    "    list_map.append(list_temp)\n",
    "df=pd.DataFrame(list_map)\n",
    "df_transform=df.T\n",
    "df_transform.index=['Normal Theory','Normal Approxinmation','Clopper-Pearon Interval',\n",
    "            'Jeffreys Interval','Agresti-Coull Interval']\n",
    "new_colmuns=['Level=90%','Level=95%','Level=99%']\n",
    "df_transform.set_axis(new_colmuns,axis=1,inplace=True)\n",
    "df_transform"
   ]
  }
 ],
 "metadata": {
  "celltoolbar": "无",
  "kernelspec": {
   "display_name": "Python 3 (ipykernel)",
   "language": "python",
   "name": "python3"
  },
  "language_info": {
   "codemirror_mode": {
    "name": "ipython",
    "version": 3
   },
   "file_extension": ".py",
   "mimetype": "text/x-python",
   "name": "python",
   "nbconvert_exporter": "python",
   "pygments_lexer": "ipython3",
   "version": "3.9.7"
  }
 },
 "nbformat": 4,
 "nbformat_minor": 5
}
